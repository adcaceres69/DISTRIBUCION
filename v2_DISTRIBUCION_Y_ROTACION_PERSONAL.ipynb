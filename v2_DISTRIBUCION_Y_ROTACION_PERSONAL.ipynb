{
  "nbformat": 4,
  "nbformat_minor": 0,
  "metadata": {
    "colab": {
      "provenance": [],
      "authorship_tag": "ABX9TyOdN1//OA8bpGfXToqdvMKs",
      "include_colab_link": true
    },
    "kernelspec": {
      "name": "python3",
      "display_name": "Python 3"
    },
    "language_info": {
      "name": "python"
    }
  },
  "cells": [
    {
      "cell_type": "markdown",
      "metadata": {
        "id": "view-in-github",
        "colab_type": "text"
      },
      "source": [
        "<a href=\"https://colab.research.google.com/github/adcaceres69/DISTRIBUCION/blob/main/v2_DISTRIBUCION_Y_ROTACION_PERSONAL.ipynb\" target=\"_parent\"><img src=\"https://colab.research.google.com/assets/colab-badge.svg\" alt=\"Open In Colab\"/></a>"
      ]
    },
    {
      "cell_type": "markdown",
      "source": [
        "#Plan de Trabajo\n",
        "1. Creación de Personas Ficticias: Generaremos 90 personas ficticias, con los roles y géneros especificados.\n",
        "2. Formación de Grupos para Puestos de Control: Asignaremos estas personas a grupos específicos para cada puesto de control, asegurándonos de cumplir con los requisitos de supervisores y fiscalizadores, y la condición especial de Perin.\n",
        "3. Planificación de Turnos y Descansos: Organizaremos los turnos de trabajo y los periodos de descanso para cada grupo según las modalidades especificadas.\n",
        "4. Rotación de Grupos entre Guardias Cortas y Largas: Finalmente, planificaremos la rotación de los grupos entre guardias cortas (Mansilla y Colorado) y largas (otros puestos), en Ciclos de un mes."
      ],
      "metadata": {
        "id": "c9awei3iO2U4"
      }
    },
    {
      "cell_type": "code",
      "execution_count": 1,
      "metadata": {
        "id": "OzPGwSkS5ZYa"
      },
      "outputs": [],
      "source": [
        "# librerias\n",
        "import pandas as pd\n",
        "import numpy as np\n",
        "import random\n",
        "\n",
        "from collections import namedtuple, Counter\n",
        "from datetime import timedelta, datetime"
      ]
    },
    {
      "cell_type": "code",
      "source": [
        "# Punto 1: Creación de Personas Ficticias\n",
        "total_varones = 51\n",
        "total_mujeres = 39\n",
        "supervisores_varones = 12\n",
        "supervisores_mujeres = 16\n",
        "identificaciones = [f\"ID_{i+1}\" for i in range(total_varones + total_mujeres)]\n",
        "\n",
        "# Reajustando la asignación para el puesto \"Perin\" y equilibrando la proporción de géneros\n",
        "# Reorganizando la lista de personas\n",
        "personas = []\n",
        "for i in range(total_varones):\n",
        "    rol = 'supervisor' if i < supervisores_varones else 'fiscalizador'\n",
        "    personas.append({'id': identificaciones[i], 'genero': 'varón', 'rol': rol})\n",
        "\n",
        "for i in range(total_mujeres):\n",
        "    rol = 'supervisor' if i < supervisores_mujeres else 'fiscalizador'\n",
        "    personas.append({'id': identificaciones[i + total_varones], 'genero': 'mujer', 'rol': rol})\n",
        "\n",
        "random.shuffle(personas)\n",
        "\n",
        "# Punto 2: Formación de Grupos para Puestos de Control\n",
        "grupos = {\n",
        "    'Mansilla': {'cantidad': 4, 'por_grupo': 8, 'supervisores': 2, 'fiscalizadores': 6},\n",
        "    'Colorado': {'cantidad': 3, 'por_grupo': 7, 'supervisores': 2, 'fiscalizadores': 5},\n",
        "    'Perin': {'cantidad': 2, 'por_grupo': 3, 'supervisores': 1, 'fiscalizadores': 2},  # Solo varones\n",
        "    'Fermin': {'cantidad': 2, 'por_grupo': 4, 'supervisores': 1, 'fiscalizadores': 3},\n",
        "    'Ruta 86': {'cantidad': 2, 'por_grupo': 4, 'supervisores': 1, 'fiscalizadores': 3},\n",
        "    'Barilari': {'cantidad': 2, 'por_grupo': 4, 'supervisores': 1, 'fiscalizadores': 3}\n",
        "}\n",
        "# Reset de las asignaciones y conteos\n",
        "asignacion_grupos = {puesto: [] for puesto in grupos}\n",
        "supervisores_restantes = {'varón': supervisores_varones, 'mujer': supervisores_mujeres}\n",
        "fiscalizadores_restantes = {'varón': total_varones - supervisores_varones, 'mujer': total_mujeres - supervisores_mujeres}\n",
        "\n",
        "# Asignación equilibrada de personal a grupos, asegurando que Perin tenga solo varones\n",
        "for puesto, info in grupos.items():\n",
        "    for _ in range(info['cantidad']):\n",
        "        grupo = []\n",
        "        # Asignando supervisores\n",
        "        for _ in range(info['supervisores']):\n",
        "            for persona in personas:\n",
        "                if persona['rol'] == 'supervisor' and supervisores_restantes[persona['genero']] > 0 and (puesto != 'Perin' or persona['genero'] == 'varón'):\n",
        "                    grupo.append(persona['id'])\n",
        "                    supervisores_restantes[persona['genero']] -= 1\n",
        "                    personas.remove(persona)\n",
        "                    break\n",
        "        # Asignando fiscalizadores\n",
        "        for _ in range(info['fiscalizadores']):\n",
        "            for persona in personas:\n",
        "                if persona['rol'] == 'fiscalizador' and fiscalizadores_restantes[persona['genero']] > 0 and (puesto != 'Perin' or persona['genero'] == 'varón'):\n",
        "                    grupo.append(persona['id'])\n",
        "                    fiscalizadores_restantes[persona['genero']] -= 1\n",
        "                    personas.remove(persona)\n",
        "                    break\n",
        "        asignacion_grupos[puesto].append(grupo)\n",
        "\n",
        "# Muestra una parte de los resultados para verificar\n",
        "ejemplo_asignacion_grupos = {puesto: asignacion_grupos[puesto][:1] for puesto in asignacion_grupos}\n",
        "ejemplo_asignacion_grupos"
      ],
      "metadata": {
        "id": "UAN2KE4E95qQ"
      },
      "execution_count": null,
      "outputs": []
    },
    {
      "cell_type": "code",
      "source": [
        "# Punto 3: Planificación de Turnos y Descansos\n",
        "\n",
        "# Configuración de los turnos y descansos para cada puesto\n",
        "configuracion_turnos = {\n",
        "    'Mansilla': {'turno': 12, 'descanso': 36},  # horas\n",
        "    'Colorado': {'turno': 8, 'descanso': 72},  # horas\n",
        "    'Perin': {'turno': 7, 'descanso': 7},      # días\n",
        "    'Fermin': {'turno': 7, 'descanso': 7},     # días\n",
        "    'Ruta 86': {'turno': 7, 'descanso': 7},    # días\n",
        "    'Barilari': {'turno': 7, 'descanso': 7}    # días\n",
        "}\n",
        "\n",
        "# Función para calcular los turnos y descansos\n",
        "def calcular_turnos(puesto, inicio_mes):\n",
        "    turnos = []\n",
        "    fecha_actual = inicio_mes\n",
        "    turno_horas = configuracion_turnos[puesto]['turno']\n",
        "    descanso_horas = configuracion_turnos[puesto]['descanso']\n",
        "    while fecha_actual.month == inicio_mes.month:\n",
        "        fin_turno = fecha_actual + timedelta(hours=turno_horas) if puesto in ['Mansilla', 'Colorado'] else fecha_actual + timedelta(days=turno_horas)\n",
        "        turnos.append(('Turno', fecha_actual, fin_turno))\n",
        "        fecha_actual = fin_turno + timedelta(hours=descanso_horas) if puesto in ['Mansilla', 'Colorado'] else fin_turno + timedelta(days=descanso_horas)\n",
        "    return turnos\n",
        "\n",
        "# Inicio del mes para calcular los turnos (Enero 2024)\n",
        "inicio_mes = datetime(2024, 1, 1)\n",
        "\n",
        "# Calculando turnos y descansos para cada puesto\n",
        "turnos_puestos = {puesto: calcular_turnos(puesto, inicio_mes) for puesto in configuracion_turnos}\n",
        "\n",
        "# Muestra una parte de los resultados para verificar\n",
        "ejemplo_turnos_puestos = {puesto: turnos_puestos[puesto][:2] for puesto in turnos_puestos}  # Primeros dos turnos de cada puesto\n",
        "ejemplo_turnos_puestos\n"
      ],
      "metadata": {
        "id": "6KqJ6JMaOQQe"
      },
      "execution_count": null,
      "outputs": []
    },
    {
      "cell_type": "code",
      "source": [
        "# Punto 4: Rotación de Grupos entre Guardias Cortas y Largas en Ciclos de un Mes\n",
        "\n",
        "# Definición de guardias cortas y largas\n",
        "guardias_cortas = ['Mansilla', 'Colorado']\n",
        "guardias_largas = ['Perin', 'Fermin', 'Ruta 86', 'Barilari']\n",
        "\n",
        "# Asignación inicial de grupos a guardias cortas y largas\n",
        "grupos_guardias_cortas = [grupo for puesto, grupos in asignacion_grupos.items() if puesto in guardias_cortas for grupo in grupos]\n",
        "grupos_guardias_largas = [grupo for puesto, grupos in asignacion_grupos.items() if puesto in guardias_largas for grupo in grupos]\n",
        "\n",
        "# Plan de rotación para los próximos meses\n",
        "plan_rotacion = {}\n",
        "total_meses = 6  # Ejemplo para 6 meses\n",
        "\n",
        "# Rotación mensual\n",
        "for mes in range(1, total_meses + 1):\n",
        "    plan_rotacion[mes] = {\n",
        "        'guardias_cortas': grupos_guardias_cortas.copy(),\n",
        "        'guardias_largas': grupos_guardias_largas.copy()\n",
        "    }\n",
        "    # Intercambio de grupos entre guardias cortas y largas\n",
        "    grupos_guardias_cortas, grupos_guardias_largas = grupos_guardias_largas, grupos_guardias_cortas\n",
        "\n",
        "# Muestra una parte de los resultados para verificar\n",
        "ejemplo_plan_rotacion = {mes: plan_rotacion[mes] for mes in range(1, 4)}\n",
        "ejemplo_plan_rotacion\n"
      ],
      "metadata": {
        "id": "t9Cy8UfvOQNU"
      },
      "execution_count": null,
      "outputs": []
    },
    {
      "cell_type": "code",
      "source": [
        "%whos"
      ],
      "metadata": {
        "colab": {
          "base_uri": "https://localhost:8080/"
        },
        "id": "cajg9gRyJaF-",
        "outputId": "4bd53e12-fbe0-4b8e-b494-594c37de3645"
      },
      "execution_count": 5,
      "outputs": [
        {
          "output_type": "stream",
          "name": "stdout",
          "text": [
            "Variable                    Type        Data/Info\n",
            "-------------------------------------------------\n",
            "Counter                     type        <class 'collections.Counter'>\n",
            "asignacion_grupos           dict        n=6\n",
            "calcular_turnos             function    <function calcular_turnos at 0x7bca9e2ee5f0>\n",
            "configuracion_turnos        dict        n=6\n",
            "datetime                    type        <class 'datetime.datetime'>\n",
            "ejemplo_asignacion_grupos   dict        n=6\n",
            "ejemplo_plan_rotacion       dict        n=3\n",
            "ejemplo_turnos_puestos      dict        n=6\n",
            "fiscalizadores_restantes    dict        n=2\n",
            "grupo                       list        n=4\n",
            "grupos                      dict        n=6\n",
            "grupos_guardias_cortas      list        n=7\n",
            "grupos_guardias_largas      list        n=8\n",
            "guardias_cortas             list        n=2\n",
            "guardias_largas             list        n=4\n",
            "i                           int         38\n",
            "identificaciones            list        n=90\n",
            "info                        dict        n=4\n",
            "inicio_mes                  datetime    2024-01-01 00:00:00\n",
            "mes                         int         6\n",
            "namedtuple                  function    <function namedtuple at 0x7bcae5b8c280>\n",
            "np                          module      <module 'numpy' from '/us<...>kages/numpy/__init__.py'>\n",
            "pd                          module      <module 'pandas' from '/u<...>ages/pandas/__init__.py'>\n",
            "persona                     dict        n=3\n",
            "personas                    list        n=7\n",
            "plan_rotacion               dict        n=6\n",
            "puesto                      str         Barilari\n",
            "random                      module      <module 'random' from '/u<...>ib/python3.10/random.py'>\n",
            "rol                         str         fiscalizador\n",
            "supervisores_mujeres        int         16\n",
            "supervisores_restantes      dict        n=2\n",
            "supervisores_varones        int         12\n",
            "timedelta                   type        <class 'datetime.timedelta'>\n",
            "total_meses                 int         6\n",
            "total_mujeres               int         39\n",
            "total_varones               int         51\n",
            "turnos_puestos              dict        n=6\n"
          ]
        }
      ]
    },
    {
      "cell_type": "code",
      "source": [],
      "metadata": {
        "id": "cypVg4ZcJaDN"
      },
      "execution_count": null,
      "outputs": []
    },
    {
      "cell_type": "code",
      "source": [],
      "metadata": {
        "id": "F_I9NlBlJaAc"
      },
      "execution_count": null,
      "outputs": []
    }
  ]
}